{
 "cells": [
  {
   "cell_type": "code",
   "execution_count": 78,
   "metadata": {
    "deletable": false,
    "editable": false
   },
   "outputs": [],
   "source": [
    "# Initialize Otter\n",
    "import otter\n",
    "grader = otter.Notebook()"
   ]
  },
  {
   "cell_type": "markdown",
   "metadata": {
    "nbgrader": {
     "grade": false,
     "grade_id": "heading",
     "locked": true,
     "schema_version": 3,
     "solution": false,
     "task": false
    }
   },
   "source": [
    "# DATA 601: HW3\n",
    "\n",
    "## Fall 2020\n",
    "\n",
    "### Due: Wed. Oct. 7, 2020 (by 23:55) \n",
    "\n",
    "**Learning Objectives**\n",
    "- Work with realworld datasets that can be represented using tabular data structures.\n",
    "- Gain experience wrangling and organizing data using `pandas`.\n",
    "- Produce visualizations summarizing information from tabular data. \n",
    "\n",
    "_This is an individual homework assignment._ \n",
    "\n",
    "Please complete this homework assignment within the Jupypter notebook environment, and provide your answers where indicated.\n",
    "\n",
    "#### Submission \n",
    "\n",
    "Your submission will be manually tested and graded. In order to ensure that everything goes smoothly, please ensure that: \n",
    "\n",
    "- your notebook runs on the Data Science Hub environment, \n",
    "- you have provided your solutions where asked without altering any other parts of this notebook,\n",
    "- you have followed the instructions outlined in the last cell of this notebook to prepare your work for submission on Gradescope.ca.\n",
    "\n",
    "_You do not need to submit any datasets._"
   ]
  },
  {
   "cell_type": "markdown",
   "metadata": {
    "nbgrader": {
     "grade": false,
     "grade_id": "warmup",
     "locked": true,
     "schema_version": 3,
     "solution": false,
     "task": false
    }
   },
   "source": [
    "## Warm up\n",
    " \n",
    "- Please review the Calgary Rainfall Jupyter notebook. In this homework, we will\n",
    "  use the Calgary Rainfall dataset. Please download the dataset if you already haven't done so. You can download the dataset from [Open Calgary](https://data.calgary.ca/Environment/Historical-Rainfall/d9kv-swk3). "
   ]
  },
  {
   "cell_type": "markdown",
   "metadata": {
    "deletable": false,
    "editable": false
   },
   "source": [
    "<!-- BEGIN QUESTION -->\n",
    "\n",
    "## Imports\n",
    "\n",
    "In order to assist the grader with testing your solution, please use the cell below to import any packages needed by your notebook. \n",
    "\n",
    "<!--\n",
    "BEGIN QUESTION\n",
    "name: t0_imports\n",
    "manual: true\n",
    "-->"
   ]
  },
  {
   "cell_type": "code",
   "execution_count": 79,
   "metadata": {},
   "outputs": [],
   "source": [
    "import pandas as pd\n",
    "import numpy as np\n",
    "import datetime as dt\n",
    "import seaborn as sns\n",
    "import matplotlib as mpl\n",
    "import matplotlib.pyplot as plt\n",
    "mpl.style.use('ggplot')\n",
    "import calendar"
   ]
  },
  {
   "cell_type": "markdown",
   "metadata": {
    "deletable": false,
    "editable": false,
    "nbgrader": {
     "grade": false,
     "grade_id": "task1",
     "locked": true,
     "points": 5,
     "schema_version": 3,
     "solution": false,
     "task": true
    }
   },
   "source": [
    "<!-- END QUESTION -->\n",
    "\n",
    "<!-- BEGIN QUESTION -->\n",
    "\n",
    "## Task 1 (5 points)\n",
    "\n",
    "### Cleanup and organization\n",
    "\n",
    "- Use `pandas` to read in the data set. Do not discard the datetime information in the columns. Convert the 'TIMESTAMP' column to a `datetime` object (You can use [`pandas.to_datetime()`](https://pandas.pydata.org/pandas-docs/stable/generated/pandas.to_datetime.html) to accomplish this).\n",
    "\n",
    "- You may notice that 'YEAR' column is now redundant. Additionally, for this homework, we won't make use of the 'NAME', 'ID' and 'DATA TYPE' columns. Please discard columns that are not needed to save memory (you can use [`pandas.DataFrame.drop`](https://pandas.pydata.org/pandas-docs/stable/generated/pandas.DataFrame.drop.html) for this). \n",
    "\n",
    "- Discard any rows where the channel is not active. Now the 'RG_ACTIVE' column is no longer needed, so discard that as well.\n",
    "\n",
    "- Display the head ([`pandas.DataFrame.head`](https://pandas.pydata.org/pandas-docs/stable/generated/pandas.DataFrame.head.html)), tail ([`pandas.DataFrame.tail`](https://pandas.pydata.org/pandas-docs/stable/generated/pandas.DataFrame.tail.html)) and description ([`pandas.DataFrame.describe`](https://pandas.pydata.org/pandas-docs/stable/generated/pandas.DataFrame.describe.html)) of the resulting dataframe.\n",
    "\n",
    "Please provide your solution by inserting appropriate code in the cell below:\n",
    "\n",
    "<!--\n",
    "BEGIN QUESTION\n",
    "name: t1_cleanup\n",
    "manual: true\n",
    "-->"
   ]
  },
  {
   "cell_type": "code",
   "execution_count": null,
   "metadata": {},
   "outputs": [
    {
     "name": "stderr",
     "output_type": "stream",
     "text": [
      "/opt/conda/lib/python3.8/site-packages/IPython/core/interactiveshell.py:3145: DtypeWarning: Columns (1,7) have mixed types.Specify dtype option on import or set low_memory=False.\n",
      "  has_raised = await self.run_ast_nodes(code_ast.body, cell_name,\n"
     ]
    }
   ],
   "source": [
    "rdata = pd.read_csv(\"Historical_Rainfall.csv\")\n",
    "rdata['TIMESTAMP'] = pd.to_datetime(rdata['TIMESTAMP'])\n",
    "A = rdata.drop(['YEAR', 'NAME','DATA TYPE','ID'],axis = 1)\n",
    "\n",
    "A = A.drop(A.loc[A['RG_ACTIVE']!='Y'].index)\n",
    "\n",
    "A = A.drop(['RG_ACTIVE'],axis = 1)\n",
    "display(A.head())\n",
    "\n",
    "display(A.tail())\n",
    "display(A.describe())"
   ]
  },
  {
   "cell_type": "markdown",
   "metadata": {
    "deletable": false,
    "editable": false,
    "nbgrader": {
     "grade": false,
     "grade_id": "task2",
     "locked": true,
     "points": 10,
     "schema_version": 3,
     "solution": false,
     "task": true
    }
   },
   "source": [
    "<!-- END QUESTION -->\n",
    "\n",
    "<!-- BEGIN QUESTION -->\n",
    "\n",
    "## Task 2 (10 points)\n",
    "\n",
    "### Restructure and determine rainfall daily totals per channel\n",
    "\n",
    "- We are interested in the daily rainfall totals per channel. Restructure and aggregate your table so that entries now contain _daily totals per channel_.  \n",
    "\n",
    "The precise details of how you accomplish this are up to you. You can for example build a hierarchical index for the rows with the year, month and day. You can also have a hierarchical index on the columns based on the channels. Please make use of `pandas` grouping and aggregation facilities to accomplish this.\n",
    "\n",
    "You may find the following useful:\n",
    "- [pandas.Series.dt.year](https://pandas.pydata.org/pandas-docs/stable/reference/api/pandas.Series.dt.year.html)\n",
    "- [pandas.Series.dt.month](https://pandas.pydata.org/pandas-docs/stable/reference/api/pandas.Series.dt.month.html)\n",
    "- [pandas.Series.dt.day](https://pandas.pydata.org/pandas-docs/stable/reference/api/pandas.Series.dt.day.html)\n",
    "\n",
    "\n",
    "\n",
    "Please provide your solution by inserting appropriate code in the cell below.\n",
    "\n",
    "<!--\n",
    "BEGIN QUESTION\n",
    "name: t2_restructure\n",
    "manual: true\n",
    "-->"
   ]
  },
  {
   "cell_type": "code",
   "execution_count": null,
   "metadata": {},
   "outputs": [],
   "source": [
    "date = pd.Series(A['TIMESTAMP'])\n",
    "date = pd.to_datetime(date)\n",
    "\n",
    "Y = date.dt.year\n",
    "M = date.dt.month\n",
    "D = date.dt.day\n",
    "\n",
    "adata = pd.DataFrame({'CHANNEL' : A['CHANNEL'], 'YEAR' : Y, 'MONTH' : M, 'DAY':D, 'RAINFALL' : A['RAINFALL']})\n",
    "\n",
    "grouped = adata.groupby(['YEAR', 'MONTH','DAY','CHANNEL'])\n",
    "totalDL0 = grouped.agg({\"RAINFALL\":\"sum\"})\n",
    "totalDL = grouped.sum().reset_index()\n",
    "display(totalDL0.head())\n",
    "display(totalDL0.tail())\n"
   ]
  },
  {
   "cell_type": "markdown",
   "metadata": {
    "nbgrader": {
     "grade": false,
     "grade_id": "task3",
     "locked": true,
     "points": 15,
     "schema_version": 3,
     "solution": false,
     "task": true
    }
   },
   "source": [
    "<!-- END QUESTION -->\n",
    "\n",
    "\n",
    "\n",
    "## Task 3 (15 points)\n",
    "\n",
    "### Visualization\n",
    "\n",
    "Produce visualizations that show:\n",
    "\n",
    "A. Rainiest day of the year for the years 1989 through 2019:  \n",
    "For each day, show the date and the total rainfall. Note that you will need to aggregate over the\n",
    "channels. Use the mean over the channels for this, i.e. _total rainfall for a particular day is\n",
    "taken to be the average of the total rainfall recorded by each channel that has recorded rainfall\n",
    "for that day_.  \n",
    "\n",
    "B. Average number of rainy days per month:  \n",
    "Average over the years 1989 through 2019. _Take a rainy day to be one for which the total rainfall recorded (as defined above) is 2.5mm or more_.  \n",
    "\n",
    "C. Rainfall *monthly* statistics such as mean, median, min and max:  \n",
    "In order words, for a particular   month, what is the mean rainfall, the median rainfall, the minimum rainfall and the maximum rainfall. Again, use the data for the years 1989 through 2019. You will need to aggregate over the channels as well - again use the mean.\n",
    "\n",
    "The details of what visualizations to use are not spelled out. Please choose a visualization that is appropriate for each of the above tasks and *clearly* shows the requested information. Please also ensure that you provide appropriate labels/legends/colorbars so that your visualizations are readable and self-contained."
   ]
  },
  {
   "cell_type": "markdown",
   "metadata": {
    "deletable": false,
    "editable": false
   },
   "source": [
    "<!-- BEGIN QUESTION -->\n",
    "\n",
    "Please provide your solution to Task 3A in the code cell below:\n",
    "\n",
    "<!--\n",
    "BEGIN QUESTION\n",
    "name: t3_A\n",
    "manual: true\n",
    "-->"
   ]
  },
  {
   "cell_type": "code",
   "execution_count": null,
   "metadata": {},
   "outputs": [],
   "source": [
    "totalDL = totalDL[(totalDL.YEAR>1988)&(totalDL.YEAR<2020)]\n",
    "ave_day_rf = totalDL.groupby(['YEAR', 'MONTH','DAY']).agg({'RAINFALL':'mean'})\n",
    "rainest_day_of_year = ave_day_rf.loc[ave_day_rf.groupby('YEAR')['RAINFALL'].idxmax()]\n",
    "fig,ax1 = plt.subplots()\n",
    "rainest_day_of_year.plot(kind='bar', color='b', grid=True,ax=ax1)\n",
    "fig.set_size_inches(15,6)\n",
    "plt.xlabel(\"Date\")\n",
    "plt.ylabel(\"RAINFALL\")\n",
    "plt.title(\"Rainest Day of a Year\")\n",
    "plt.legend()\n",
    "plt.show()"
   ]
  },
  {
   "cell_type": "markdown",
   "metadata": {
    "deletable": false,
    "editable": false
   },
   "source": [
    "<!-- END QUESTION -->\n",
    "\n",
    "<!-- BEGIN QUESTION -->\n",
    "\n",
    "Please provide your solution to Task 3B in the code cell below:\n",
    "\n",
    "<!--\n",
    "BEGIN QUESTION\n",
    "name: t3_B\n",
    "manual: true\n",
    "-->"
   ]
  },
  {
   "cell_type": "code",
   "execution_count": null,
   "metadata": {},
   "outputs": [],
   "source": [
    "rainyday = ave_day_rf.loc[ave_day_rf['RAINFALL'] >2.5]\n",
    "\n",
    "rainy = rainyday.groupby(level=[1,0]).size()\n",
    "rainy = rainy.groupby(['MONTH']).mean()\n",
    "rainy= rainy.reset_index()\n",
    "rainy = pd.DataFrame(rainy)\n",
    "rainy.columns =['MONTH', 'DAYS'] \n",
    "rainy['MONTH'] = rainy['MONTH'].apply(lambda t: calendar.month_abbr[t])\n",
    "display(rainy)\n",
    "fig,ax1 = plt.subplots()\n",
    "rainy['DAYS'].plot(kind='bar', color='b', grid=True,ax=ax1)\n",
    "fig.set_size_inches(15,6)\n",
    "plt.xticks(rainy.index,rainy['MONTH'].values)\n",
    "plt.ylabel(\"Average Days\")\n",
    "plt.title('Average Rainy Day per Month')\n",
    "plt.show()\n"
   ]
  },
  {
   "cell_type": "markdown",
   "metadata": {
    "deletable": false,
    "editable": false
   },
   "source": [
    "<!-- END QUESTION -->\n",
    "\n",
    "<!-- BEGIN QUESTION -->\n",
    "\n",
    "Please provide your solution to Task 3C in the code cell below:\n",
    "\n",
    "<!--\n",
    "BEGIN QUESTION\n",
    "name: t3_C\n",
    "manual: true\n",
    "-->"
   ]
  },
  {
   "cell_type": "code",
   "execution_count": null,
   "metadata": {},
   "outputs": [],
   "source": [
    "fig,ax = plt.subplots(figsize=(12,8))\n",
    "Data =  ave_day_rf.groupby(level=[0,1]).sum()\n",
    "ax.set_title('Month Rainfall Statistics')\n",
    "Data = Data.unstack()\n",
    "Data.boxplot( rot=360, fontsize=12, showmeans=True,labels = ['May','June','July','August','September'])\n",
    "plt.xticks(np.arange(1, 6, step=1), calendar.month_name[5:10], rotation=20)\n",
    "\n",
    "plt.xlabel(\"MONTH\")\n",
    "plt.ylabel(\"RAINFALL\")\n",
    "plt.show()\n"
   ]
  },
  {
   "cell_type": "markdown",
   "metadata": {
    "deletable": false,
    "editable": false
   },
   "source": [
    "---\n",
    "\n",
    "To double-check your work, the cell below will rerun all of the autograder tests."
   ]
  },
  {
   "cell_type": "code",
   "execution_count": null,
   "metadata": {
    "deletable": false,
    "editable": false
   },
   "outputs": [],
   "source": [
    "grader.check_all()"
   ]
  },
  {
   "cell_type": "markdown",
   "metadata": {
    "deletable": false,
    "editable": false
   },
   "source": [
    "## Submission\n",
    "\n",
    "Make sure you have run all cells in your notebook in order before running the cell below, so that all images/graphs appear in the output. The cell below will generate a zip file for you to submit. **Please save before exporting!**"
   ]
  },
  {
   "cell_type": "code",
   "execution_count": null,
   "metadata": {
    "deletable": false,
    "editable": false
   },
   "outputs": [],
   "source": [
    "# Save your notebook first, then run this cell to export your submission.\n",
    "grader.export(\"HW3.ipynb\", pdf=False)"
   ]
  },
  {
   "cell_type": "markdown",
   "metadata": {},
   "source": [
    " "
   ]
  }
 ],
 "metadata": {
  "celltoolbar": "Create Assignment",
  "kernelspec": {
   "display_name": "Python 3",
   "language": "python",
   "name": "python3"
  },
  "language_info": {
   "codemirror_mode": {
    "name": "ipython",
    "version": 3
   },
   "file_extension": ".py",
   "mimetype": "text/x-python",
   "name": "python",
   "nbconvert_exporter": "python",
   "pygments_lexer": "ipython3",
   "version": "3.8.5"
  }
 },
 "nbformat": 4,
 "nbformat_minor": 4
}
